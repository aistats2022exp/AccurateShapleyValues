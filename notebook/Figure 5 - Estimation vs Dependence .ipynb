{
 "cells": [
  {
   "cell_type": "code",
   "execution_count": 1,
   "id": "computational-concert",
   "metadata": {},
   "outputs": [],
   "source": [
    "import warnings\n",
    "warnings.filterwarnings('ignore')\n",
    "\n",
    "from acv_explainers import ACVTree\n",
    "import shap\n",
    "\n",
    "import matplotlib.pyplot as plt\n",
    "from sklearn.preprocessing import OneHotEncoder\n",
    "from sklearn.model_selection import train_test_split\n",
    "from sklearn.ensemble import RandomForestClassifier\n",
    "from sklearn.tree import DecisionTreeClassifier\n",
    "from xgboost import XGBRFClassifier, XGBClassifier, XGBRegressor\n",
    "from sklearn.metrics import roc_auc_score\n",
    "import random \n",
    "import time \n",
    "import numpy as np\n",
    "import pandas as pd\n",
    "import seaborn as sns\n",
    "from scipy.special import comb\n",
    "\n",
    "random.seed(2021)\n",
    "np.random.seed(2021)\n",
    "\n",
    "from experiments.exp_linear import *\n",
    "\n",
    "# Fixed the seed and plot env\n",
    "random.seed(1)\n",
    "np.random.seed(1)\n",
    "\n",
    "# plt.style.use(['ggplot'])"
   ]
  },
  {
   "cell_type": "code",
   "execution_count": 3,
   "id": "adjacent-freight",
   "metadata": {},
   "outputs": [
    {
     "data": {
      "text/plain": [
       "array([0.        , 0.03413793, 0.06827586, 0.10241379, 0.13655172,\n",
       "       0.17068966, 0.20482759, 0.23896552, 0.27310345, 0.30724138,\n",
       "       0.34137931, 0.37551724, 0.40965517, 0.4437931 , 0.47793103,\n",
       "       0.51206897, 0.5462069 , 0.58034483, 0.61448276, 0.64862069,\n",
       "       0.68275862, 0.71689655, 0.75103448, 0.78517241, 0.81931034,\n",
       "       0.85344828, 0.88758621, 0.92172414, 0.95586207, 0.99      ])"
      ]
     },
     "execution_count": 3,
     "metadata": {},
     "output_type": "execute_result"
    }
   ],
   "source": [
    "# values of the correlation coefficient p \\in (0, 1)\n",
    "p_space = np.linspace(0, 0.99, 30)\n",
    "p_space"
   ]
  },
  {
   "cell_type": "markdown",
   "id": "similar-custom",
   "metadata": {},
   "source": [
    "## Compute Estimation w.r.t Dependence"
   ]
  },
  {
   "cell_type": "code",
   "execution_count": 4,
   "id": "illegal-profile",
   "metadata": {},
   "outputs": [
    {
     "name": "stderr",
     "output_type": "stream",
     "text": [
      "100%|██████████| 1/1 [00:00<00:00, 81.50it/s]\n",
      "100%|██████████| 5/5 [00:00<00:00, 11.64it/s]\n",
      "100%|██████████| 5/5 [00:07<00:00,  1.53s/it]\n",
      "100%|██████████| 1/1 [00:00<00:00, 77.64it/s]\n",
      "100%|██████████| 5/5 [00:00<00:00, 12.55it/s]\n",
      "100%|██████████| 5/5 [00:07<00:00,  1.54s/it]\n",
      "100%|██████████| 1/1 [00:00<00:00, 92.78it/s]\n",
      "100%|██████████| 5/5 [00:00<00:00, 12.96it/s]\n",
      "100%|██████████| 5/5 [00:07<00:00,  1.57s/it]\n",
      "100%|██████████| 1/1 [00:00<00:00, 83.08it/s]\n",
      "100%|██████████| 5/5 [00:00<00:00, 14.58it/s]\n",
      "100%|██████████| 5/5 [00:07<00:00,  1.53s/it]\n",
      "100%|██████████| 1/1 [00:00<00:00, 84.77it/s]\n",
      "100%|██████████| 5/5 [00:00<00:00, 15.72it/s]\n",
      "100%|██████████| 5/5 [00:07<00:00,  1.55s/it]\n",
      "100%|██████████| 1/1 [00:00<00:00, 78.72it/s]\n",
      "100%|██████████| 5/5 [00:00<00:00, 15.99it/s]\n",
      "100%|██████████| 5/5 [00:07<00:00,  1.54s/it]\n",
      "100%|██████████| 1/1 [00:00<00:00, 91.28it/s]\n",
      "100%|██████████| 5/5 [00:00<00:00, 12.34it/s]\n",
      "100%|██████████| 5/5 [00:07<00:00,  1.50s/it]\n",
      "100%|██████████| 1/1 [00:00<00:00, 112.51it/s]\n",
      "100%|██████████| 5/5 [00:00<00:00, 14.19it/s]\n",
      "100%|██████████| 5/5 [00:07<00:00,  1.47s/it]\n",
      "100%|██████████| 1/1 [00:00<00:00, 99.92it/s]\n",
      "100%|██████████| 5/5 [00:00<00:00, 14.69it/s]\n",
      "100%|██████████| 5/5 [00:07<00:00,  1.48s/it]\n",
      "100%|██████████| 1/1 [00:00<00:00, 88.41it/s]\n",
      "100%|██████████| 5/5 [00:00<00:00, 17.12it/s]\n",
      "100%|██████████| 5/5 [00:07<00:00,  1.47s/it]\n",
      "100%|██████████| 1/1 [00:00<00:00, 108.80it/s]\n",
      "100%|██████████| 5/5 [00:00<00:00, 17.05it/s]\n",
      "100%|██████████| 5/5 [00:07<00:00,  1.47s/it]\n",
      "100%|██████████| 1/1 [00:00<00:00, 88.80it/s]\n",
      "100%|██████████| 5/5 [00:00<00:00, 17.27it/s]\n",
      "100%|██████████| 5/5 [00:07<00:00,  1.52s/it]\n",
      "100%|██████████| 1/1 [00:00<00:00, 102.52it/s]\n",
      "100%|██████████| 5/5 [00:00<00:00, 15.64it/s]\n",
      "100%|██████████| 5/5 [00:07<00:00,  1.52s/it]\n",
      "100%|██████████| 1/1 [00:00<00:00, 76.88it/s]\n",
      "100%|██████████| 5/5 [00:00<00:00, 14.82it/s]\n",
      "100%|██████████| 5/5 [00:07<00:00,  1.54s/it]\n",
      "100%|██████████| 1/1 [00:00<00:00, 79.02it/s]\n",
      "100%|██████████| 5/5 [00:00<00:00, 13.96it/s]\n",
      "100%|██████████| 5/5 [00:07<00:00,  1.53s/it]\n",
      "100%|██████████| 1/1 [00:00<00:00, 81.63it/s]\n",
      "100%|██████████| 5/5 [00:00<00:00, 19.23it/s]\n",
      "100%|██████████| 5/5 [00:07<00:00,  1.55s/it]\n",
      "100%|██████████| 1/1 [00:00<00:00, 80.12it/s]\n",
      "100%|██████████| 5/5 [00:00<00:00, 19.58it/s]\n",
      "100%|██████████| 5/5 [00:07<00:00,  1.48s/it]\n",
      "100%|██████████| 1/1 [00:00<00:00, 101.53it/s]\n",
      "100%|██████████| 5/5 [00:00<00:00, 16.41it/s]\n",
      "100%|██████████| 5/5 [00:07<00:00,  1.46s/it]\n",
      "100%|██████████| 1/1 [00:00<00:00, 103.71it/s]\n",
      "100%|██████████| 5/5 [00:00<00:00, 19.96it/s]\n",
      "100%|██████████| 5/5 [00:07<00:00,  1.48s/it]\n",
      "100%|██████████| 1/1 [00:00<00:00, 106.08it/s]\n",
      "100%|██████████| 5/5 [00:00<00:00, 21.15it/s]\n",
      "100%|██████████| 5/5 [00:08<00:00,  1.74s/it]\n",
      "100%|██████████| 1/1 [00:00<00:00, 73.91it/s]\n",
      "100%|██████████| 5/5 [00:00<00:00,  6.18it/s]\n",
      "100%|██████████| 5/5 [00:07<00:00,  1.57s/it]\n",
      "100%|██████████| 1/1 [00:00<00:00, 98.14it/s]\n",
      "100%|██████████| 5/5 [00:00<00:00, 10.22it/s]\n",
      "100%|██████████| 5/5 [00:07<00:00,  1.52s/it]\n",
      "100%|██████████| 1/1 [00:00<00:00, 111.00it/s]\n",
      "100%|██████████| 5/5 [00:00<00:00, 19.99it/s]\n",
      "100%|██████████| 5/5 [00:07<00:00,  1.50s/it]\n",
      "100%|██████████| 1/1 [00:00<00:00, 85.93it/s]\n",
      "100%|██████████| 5/5 [00:00<00:00, 23.05it/s]\n",
      "100%|██████████| 5/5 [00:07<00:00,  1.49s/it]\n",
      "100%|██████████| 1/1 [00:00<00:00, 91.40it/s]\n",
      "100%|██████████| 5/5 [00:00<00:00, 23.14it/s]\n",
      "100%|██████████| 5/5 [00:07<00:00,  1.48s/it]\n",
      "100%|██████████| 1/1 [00:00<00:00, 85.80it/s]\n",
      "100%|██████████| 5/5 [00:00<00:00, 18.34it/s]\n",
      "100%|██████████| 5/5 [00:07<00:00,  1.49s/it]\n",
      "100%|██████████| 1/1 [00:00<00:00, 111.59it/s]\n",
      "100%|██████████| 5/5 [00:00<00:00, 24.39it/s]\n",
      "100%|██████████| 5/5 [00:07<00:00,  1.48s/it]\n",
      "100%|██████████| 1/1 [00:00<00:00, 94.73it/s]\n",
      "100%|██████████| 5/5 [00:00<00:00, 17.55it/s]\n",
      "100%|██████████| 5/5 [00:07<00:00,  1.47s/it]\n",
      "100%|██████████| 1/1 [00:00<00:00, 95.43it/s]\n",
      "100%|██████████| 5/5 [00:00<00:00, 27.02it/s]\n",
      "100%|██████████| 5/5 [00:07<00:00,  1.47s/it]\n",
      "100%|██████████| 1/1 [00:00<00:00, 93.41it/s]\n",
      "100%|██████████| 5/5 [00:00<00:00, 28.23it/s]\n",
      "100%|██████████| 5/5 [00:07<00:00,  1.45s/it]\n"
     ]
    }
   ],
   "source": [
    "p_space = np.linspace(0, 0.99, 30)\n",
    "shap_errors = []\n",
    "leaf_errors = []\n",
    "for p in p_space:\n",
    "    n = 10000\n",
    "    d = 5\n",
    "    mean = np.zeros(d)\n",
    "\n",
    "    cov = p*np.ones(shape=(d, d)) - (p - 1)*np.eye(d)\n",
    "    C = [[]]\n",
    "\n",
    "#     coefs = 4*np.random.randn(d)\n",
    "    coefs = np.ones(d)\n",
    "    model_type = 'linear'\n",
    "    k = 10\n",
    "    coefs[k:] = 0\n",
    "\n",
    "    exp = ExperimentsLinear(mean=mean, cov=cov, coefs=coefs, n=n, C=C)\n",
    "    data = exp.data\n",
    "\n",
    "#     print('Coefficients of the Linear regression are = {}'.format(coefs))\n",
    "\n",
    "    model = RandomForestRegressor(n_estimators=1, max_depth=6)\n",
    "    model.fit(exp.data, exp.y_train)\n",
    "\n",
    "#     print('TEST SET MSE = {}'.format(mean_squared_error(model.predict(exp.data_test), exp.y_test)))\n",
    "\n",
    "    ## Build ACVTREE\n",
    "\n",
    "    acvtree = ACVTree(model, data)\n",
    "\n",
    "    n_gen = 50000\n",
    "    nb = 100\n",
    "    exp2 = ExperimentsLinear(mean=mean, cov=cov, coefs=coefs, n=n_gen, C=C)\n",
    "    data_gen = np.array(exp.data, dtype=np.float)\n",
    "\n",
    "    plug_sv = acvtree.py_shap_values_notoptimized(data_gen[:nb], C=[[]], data=data)\n",
    "    mc_sv = tree_sv_exact(data_gen[:nb], C=[[]], tree=acvtree, mean=mean, cov=cov, N=1000)\n",
    "    \n",
    "    # shap_sv = tree_shap(X=data_gen[:nb], data=data, C=[[]], tree=acvtree, value_function=shap_cond_exp)\n",
    "    explainer_observational = shap.TreeExplainer(model, feature_perturbation='observational')\n",
    "    shap_sv = explainer_observational.shap_values(data_gen[:nb])\n",
    "    \n",
    "    \n",
    "    plug_sv = plug_sv.squeeze()\n",
    "    shap_sv = shap_sv.squeeze()\n",
    "    mc_sv = mc_sv.squeeze()\n",
    "    \n",
    "    \n",
    "    relative = np.zeros(shape=mc_sv.shape)\n",
    "    for i in range(mc_sv.shape[0]):\n",
    "        for j in range(mc_sv.shape[1]):\n",
    "            if np.abs(mc_sv[i, j]) <= 1:\n",
    "                relative[i, j] = 1\n",
    "            else:\n",
    "                relative[i, j] = mc_sv[i, j]\n",
    "\n",
    "    err_monte_carlo = l1_norm(mc_sv- mc_sv)\n",
    "    err_plugin = l1_norm((plug_sv - mc_sv)/relative)\n",
    "    err_shap = l1_norm((shap_sv - mc_sv)/relative)\n",
    "    err_concat = np.concatenate([err_shap, err_plugin], axis=0)\n",
    "    \n",
    "    shap_errors.append(np.mean(err_shap))\n",
    "    leaf_errors.append(np.mean(err_plugin))"
   ]
  },
  {
   "cell_type": "code",
   "execution_count": 5,
   "id": "unsigned-merchandise",
   "metadata": {},
   "outputs": [
    {
     "data": {
      "text/plain": [
       "<matplotlib.legend.Legend at 0x7f834bb3b208>"
      ]
     },
     "execution_count": 5,
     "metadata": {},
     "output_type": "execute_result"
    },
    {
     "data": {
      "image/png": "[encoded data removed]",
      "text/plain": [
       "<Figure size 1050x700 with 1 Axes>"
      ]
     },
     "metadata": {
      "needs_background": "light"
     },
     "output_type": "display_data"
    }
   ],
   "source": [
    "plt.figure(dpi=175)\n",
    "plt.plot(p_space, shap_errors, label='TreeSHAP', color=sns.color_palette()[3])\n",
    "plt.plot(p_space, leaf_errors, label='Leaf', color=sns.color_palette()[0])\n",
    "plt.xlabel(r'$\\rho$')\n",
    "plt.ylabel('R-MAE')\n",
    "plt.legend()"
   ]
  }
 ],
 "metadata": {
  "kernelspec": {
   "display_name": "Python 3",
   "language": "python",
   "name": "python3"
  },
  "language_info": {
   "codemirror_mode": {
    "name": "ipython",
    "version": 3
   },
   "file_extension": ".py",
   "mimetype": "text/x-python",
   "name": "python",
   "nbconvert_exporter": "python",
   "pygments_lexer": "ipython3",
   "version": "3.6.13"
  }
 },
 "nbformat": 4,
 "nbformat_minor": 5
}
